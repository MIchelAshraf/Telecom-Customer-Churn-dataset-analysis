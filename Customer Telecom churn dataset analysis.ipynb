{
 "cells": [
  {
   "cell_type": "code",
   "execution_count": 168,
   "metadata": {
    "id": "pWAbGsAib_f0"
   },
   "outputs": [],
   "source": [
    "import pandas as pd\n",
    "import numpy as np\n",
    "import matplotlib.pyplot as plt"
   ]
  },
  {
   "cell_type": "code",
   "execution_count": 169,
   "metadata": {
    "id": "a9RfRgLLcbaJ"
   },
   "outputs": [],
   "source": [
    "train = pd.read_csv('C:\\\\Users\\\\PC\\\\Desktop\\\\jupyter project\\\\Session 4 case study\\\\WA_Fn-UseC_-Telco-Customer-Churn.csv')\n",
    "\n"
   ]
  },
  {
   "cell_type": "code",
   "execution_count": 170,
   "metadata": {
    "colab": {
     "base_uri": "https://localhost:8080/",
     "height": 313
    },
    "id": "YDOTHvaacfWs",
    "outputId": "ad9050a8-3b9d-4adc-ed7d-fbaad9e5224c"
   },
   "outputs": [
    {
     "data": {
      "text/html": [
       "<div>\n",
       "<style scoped>\n",
       "    .dataframe tbody tr th:only-of-type {\n",
       "        vertical-align: middle;\n",
       "    }\n",
       "\n",
       "    .dataframe tbody tr th {\n",
       "        vertical-align: top;\n",
       "    }\n",
       "\n",
       "    .dataframe thead th {\n",
       "        text-align: right;\n",
       "    }\n",
       "</style>\n",
       "<table border=\"1\" class=\"dataframe\">\n",
       "  <thead>\n",
       "    <tr style=\"text-align: right;\">\n",
       "      <th></th>\n",
       "      <th>customerID</th>\n",
       "      <th>gender</th>\n",
       "      <th>SeniorCitizen</th>\n",
       "      <th>Partner</th>\n",
       "      <th>Dependents</th>\n",
       "      <th>tenure</th>\n",
       "      <th>PhoneService</th>\n",
       "      <th>MultipleLines</th>\n",
       "      <th>InternetService</th>\n",
       "      <th>OnlineSecurity</th>\n",
       "      <th>...</th>\n",
       "      <th>DeviceProtection</th>\n",
       "      <th>TechSupport</th>\n",
       "      <th>StreamingTV</th>\n",
       "      <th>StreamingMovies</th>\n",
       "      <th>Contract</th>\n",
       "      <th>PaperlessBilling</th>\n",
       "      <th>PaymentMethod</th>\n",
       "      <th>MonthlyCharges</th>\n",
       "      <th>TotalCharges</th>\n",
       "      <th>Churn</th>\n",
       "    </tr>\n",
       "  </thead>\n",
       "  <tbody>\n",
       "    <tr>\n",
       "      <th>0</th>\n",
       "      <td>7590-VHVEG</td>\n",
       "      <td>Female</td>\n",
       "      <td>0</td>\n",
       "      <td>Yes</td>\n",
       "      <td>No</td>\n",
       "      <td>1</td>\n",
       "      <td>No</td>\n",
       "      <td>No phone service</td>\n",
       "      <td>DSL</td>\n",
       "      <td>No</td>\n",
       "      <td>...</td>\n",
       "      <td>No</td>\n",
       "      <td>No</td>\n",
       "      <td>No</td>\n",
       "      <td>No</td>\n",
       "      <td>Month-to-month</td>\n",
       "      <td>Yes</td>\n",
       "      <td>Electronic check</td>\n",
       "      <td>29.85</td>\n",
       "      <td>29.85</td>\n",
       "      <td>No</td>\n",
       "    </tr>\n",
       "    <tr>\n",
       "      <th>1</th>\n",
       "      <td>5575-GNVDE</td>\n",
       "      <td>Male</td>\n",
       "      <td>0</td>\n",
       "      <td>No</td>\n",
       "      <td>No</td>\n",
       "      <td>34</td>\n",
       "      <td>Yes</td>\n",
       "      <td>No</td>\n",
       "      <td>DSL</td>\n",
       "      <td>Yes</td>\n",
       "      <td>...</td>\n",
       "      <td>Yes</td>\n",
       "      <td>No</td>\n",
       "      <td>No</td>\n",
       "      <td>No</td>\n",
       "      <td>One year</td>\n",
       "      <td>No</td>\n",
       "      <td>Mailed check</td>\n",
       "      <td>56.95</td>\n",
       "      <td>1889.5</td>\n",
       "      <td>No</td>\n",
       "    </tr>\n",
       "    <tr>\n",
       "      <th>2</th>\n",
       "      <td>3668-QPYBK</td>\n",
       "      <td>Male</td>\n",
       "      <td>0</td>\n",
       "      <td>No</td>\n",
       "      <td>No</td>\n",
       "      <td>2</td>\n",
       "      <td>Yes</td>\n",
       "      <td>No</td>\n",
       "      <td>DSL</td>\n",
       "      <td>Yes</td>\n",
       "      <td>...</td>\n",
       "      <td>No</td>\n",
       "      <td>No</td>\n",
       "      <td>No</td>\n",
       "      <td>No</td>\n",
       "      <td>Month-to-month</td>\n",
       "      <td>Yes</td>\n",
       "      <td>Mailed check</td>\n",
       "      <td>53.85</td>\n",
       "      <td>108.15</td>\n",
       "      <td>Yes</td>\n",
       "    </tr>\n",
       "    <tr>\n",
       "      <th>3</th>\n",
       "      <td>7795-CFOCW</td>\n",
       "      <td>Male</td>\n",
       "      <td>0</td>\n",
       "      <td>No</td>\n",
       "      <td>No</td>\n",
       "      <td>45</td>\n",
       "      <td>No</td>\n",
       "      <td>No phone service</td>\n",
       "      <td>DSL</td>\n",
       "      <td>Yes</td>\n",
       "      <td>...</td>\n",
       "      <td>Yes</td>\n",
       "      <td>Yes</td>\n",
       "      <td>No</td>\n",
       "      <td>No</td>\n",
       "      <td>One year</td>\n",
       "      <td>No</td>\n",
       "      <td>Bank transfer (automatic)</td>\n",
       "      <td>42.30</td>\n",
       "      <td>1840.75</td>\n",
       "      <td>No</td>\n",
       "    </tr>\n",
       "    <tr>\n",
       "      <th>4</th>\n",
       "      <td>9237-HQITU</td>\n",
       "      <td>Female</td>\n",
       "      <td>0</td>\n",
       "      <td>No</td>\n",
       "      <td>No</td>\n",
       "      <td>2</td>\n",
       "      <td>Yes</td>\n",
       "      <td>No</td>\n",
       "      <td>Fiber optic</td>\n",
       "      <td>No</td>\n",
       "      <td>...</td>\n",
       "      <td>No</td>\n",
       "      <td>No</td>\n",
       "      <td>No</td>\n",
       "      <td>No</td>\n",
       "      <td>Month-to-month</td>\n",
       "      <td>Yes</td>\n",
       "      <td>Electronic check</td>\n",
       "      <td>70.70</td>\n",
       "      <td>151.65</td>\n",
       "      <td>Yes</td>\n",
       "    </tr>\n",
       "  </tbody>\n",
       "</table>\n",
       "<p>5 rows × 21 columns</p>\n",
       "</div>"
      ],
      "text/plain": [
       "   customerID  gender  SeniorCitizen Partner Dependents  tenure PhoneService  \\\n",
       "0  7590-VHVEG  Female              0     Yes         No       1           No   \n",
       "1  5575-GNVDE    Male              0      No         No      34          Yes   \n",
       "2  3668-QPYBK    Male              0      No         No       2          Yes   \n",
       "3  7795-CFOCW    Male              0      No         No      45           No   \n",
       "4  9237-HQITU  Female              0      No         No       2          Yes   \n",
       "\n",
       "      MultipleLines InternetService OnlineSecurity  ... DeviceProtection  \\\n",
       "0  No phone service             DSL             No  ...               No   \n",
       "1                No             DSL            Yes  ...              Yes   \n",
       "2                No             DSL            Yes  ...               No   \n",
       "3  No phone service             DSL            Yes  ...              Yes   \n",
       "4                No     Fiber optic             No  ...               No   \n",
       "\n",
       "  TechSupport StreamingTV StreamingMovies        Contract PaperlessBilling  \\\n",
       "0          No          No              No  Month-to-month              Yes   \n",
       "1          No          No              No        One year               No   \n",
       "2          No          No              No  Month-to-month              Yes   \n",
       "3         Yes          No              No        One year               No   \n",
       "4          No          No              No  Month-to-month              Yes   \n",
       "\n",
       "               PaymentMethod MonthlyCharges  TotalCharges Churn  \n",
       "0           Electronic check          29.85         29.85    No  \n",
       "1               Mailed check          56.95        1889.5    No  \n",
       "2               Mailed check          53.85        108.15   Yes  \n",
       "3  Bank transfer (automatic)          42.30       1840.75    No  \n",
       "4           Electronic check          70.70        151.65   Yes  \n",
       "\n",
       "[5 rows x 21 columns]"
      ]
     },
     "execution_count": 170,
     "metadata": {},
     "output_type": "execute_result"
    }
   ],
   "source": [
    "train.head(5)"
   ]
  },
  {
   "cell_type": "code",
   "execution_count": 171,
   "metadata": {
    "colab": {
     "base_uri": "https://localhost:8080/"
    },
    "id": "TxAAXBrMciW8",
    "outputId": "58672e6b-fa20-4ec2-e88a-55634b7703ea"
   },
   "outputs": [
    {
     "name": "stdout",
     "output_type": "stream",
     "text": [
      "<class 'pandas.core.frame.DataFrame'>\n",
      "RangeIndex: 7043 entries, 0 to 7042\n",
      "Data columns (total 21 columns):\n",
      " #   Column            Non-Null Count  Dtype  \n",
      "---  ------            --------------  -----  \n",
      " 0   customerID        7043 non-null   object \n",
      " 1   gender            7043 non-null   object \n",
      " 2   SeniorCitizen     7043 non-null   int64  \n",
      " 3   Partner           7043 non-null   object \n",
      " 4   Dependents        7043 non-null   object \n",
      " 5   tenure            7043 non-null   int64  \n",
      " 6   PhoneService      7043 non-null   object \n",
      " 7   MultipleLines     7043 non-null   object \n",
      " 8   InternetService   7043 non-null   object \n",
      " 9   OnlineSecurity    7043 non-null   object \n",
      " 10  OnlineBackup      7043 non-null   object \n",
      " 11  DeviceProtection  7043 non-null   object \n",
      " 12  TechSupport       7043 non-null   object \n",
      " 13  StreamingTV       7043 non-null   object \n",
      " 14  StreamingMovies   7043 non-null   object \n",
      " 15  Contract          7043 non-null   object \n",
      " 16  PaperlessBilling  7043 non-null   object \n",
      " 17  PaymentMethod     7043 non-null   object \n",
      " 18  MonthlyCharges    7043 non-null   float64\n",
      " 19  TotalCharges      7043 non-null   object \n",
      " 20  Churn             7043 non-null   object \n",
      "dtypes: float64(1), int64(2), object(18)\n",
      "memory usage: 1.1+ MB\n"
     ]
    }
   ],
   "source": [
    "train.info()"
   ]
  },
  {
   "cell_type": "code",
   "execution_count": 172,
   "metadata": {
    "colab": {
     "base_uri": "https://localhost:8080/"
    },
    "id": "VLsry0TEirBH",
    "outputId": "7b9c6b9e-6161-4f25-e1c4-0abe12c48716"
   },
   "outputs": [
    {
     "data": {
      "text/plain": [
       "array(['DSL', 'Fiber optic', 'No'], dtype=object)"
      ]
     },
     "execution_count": 172,
     "metadata": {},
     "output_type": "execute_result"
    }
   ],
   "source": [
    "train['InternetService'].unique()"
   ]
  },
  {
   "cell_type": "code",
   "execution_count": 173,
   "metadata": {
    "colab": {
     "base_uri": "https://localhost:8080/"
    },
    "id": "yQF6Um1lcppz",
    "outputId": "3378dcda-ed13-45f3-a858-0cc5571e9a83"
   },
   "outputs": [
    {
     "data": {
      "text/plain": [
       "0"
      ]
     },
     "execution_count": 173,
     "metadata": {},
     "output_type": "execute_result"
    }
   ],
   "source": [
    "train.duplicated().sum()"
   ]
  },
  {
   "cell_type": "code",
   "execution_count": 174,
   "metadata": {
    "id": "pfIoOHDQk3j2"
   },
   "outputs": [],
   "source": [
    "dict={'Yes':1, 'No':0}\n",
    "train['Churn'].replace(dict, inplace=True)"
   ]
  },
  {
   "cell_type": "code",
   "execution_count": 175,
   "metadata": {
    "colab": {
     "base_uri": "https://localhost:8080/"
    },
    "id": "0xiVJGkPlBiH",
    "outputId": "b38f7666-5e67-4a4f-f23a-72f59b868b09"
   },
   "outputs": [
    {
     "data": {
      "text/plain": [
       "customerID          7043\n",
       "gender                 2\n",
       "SeniorCitizen          2\n",
       "Partner                2\n",
       "Dependents             2\n",
       "tenure                73\n",
       "PhoneService           2\n",
       "MultipleLines          3\n",
       "InternetService        3\n",
       "OnlineSecurity         3\n",
       "OnlineBackup           3\n",
       "DeviceProtection       3\n",
       "TechSupport            3\n",
       "StreamingTV            3\n",
       "StreamingMovies        3\n",
       "Contract               3\n",
       "PaperlessBilling       2\n",
       "PaymentMethod          4\n",
       "MonthlyCharges      1585\n",
       "TotalCharges        6531\n",
       "Churn                  2\n",
       "dtype: int64"
      ]
     },
     "execution_count": 175,
     "metadata": {},
     "output_type": "execute_result"
    }
   ],
   "source": [
    "train.nunique()"
   ]
  },
  {
   "cell_type": "code",
   "execution_count": 176,
   "metadata": {
    "id": "2kDt8waGlwsQ"
   },
   "outputs": [],
   "source": [
    "train['TotalCharges'] = pd.to_numeric(train['TotalCharges'], errors='coerce')\n"
   ]
  },
  {
   "cell_type": "markdown",
   "metadata": {
    "id": "nHhwQ2mllnSo"
   },
   "source": [
    " Partner           7043 non-null   object \n",
    " 4   Dependents        7043 non-null   object \n",
    " 5   tenure            7043 non-null   int64  \n",
    " 6   PhoneService      7043 non-null   object "
   ]
  },
  {
   "cell_type": "code",
   "execution_count": 177,
   "metadata": {
    "colab": {
     "base_uri": "https://localhost:8080/"
    },
    "id": "9DBEmNnJmYJw",
    "outputId": "f9e9da4d-e458-4c12-f169-1831e2900146"
   },
   "outputs": [
    {
     "data": {
      "text/plain": [
       "array(['Yes', 'No'], dtype=object)"
      ]
     },
     "execution_count": 177,
     "metadata": {},
     "output_type": "execute_result"
    }
   ],
   "source": [
    "train['Partner'].unique()"
   ]
  },
  {
   "cell_type": "code",
   "execution_count": 178,
   "metadata": {
    "id": "n8F9RDGAlaXh"
   },
   "outputs": [],
   "source": [
    "dict={'Yes':1, 'No':0}\n",
    "train['Partner'].replace(dict, inplace=True)"
   ]
  },
  {
   "cell_type": "code",
   "execution_count": 179,
   "metadata": {
    "colab": {
     "base_uri": "https://localhost:8080/"
    },
    "id": "2BIB7vMfmcxs",
    "outputId": "56fc0b95-2ebe-451b-b33c-b6c96c24617b"
   },
   "outputs": [
    {
     "data": {
      "text/plain": [
       "array(['No', 'Yes'], dtype=object)"
      ]
     },
     "execution_count": 179,
     "metadata": {},
     "output_type": "execute_result"
    }
   ],
   "source": [
    "train['Dependents'].unique()"
   ]
  },
  {
   "cell_type": "code",
   "execution_count": 180,
   "metadata": {
    "id": "5ffsRbEblbLB"
   },
   "outputs": [],
   "source": [
    "dict={'Yes':1, 'No':0}\n",
    "train['Dependents'].replace(dict, inplace=True)"
   ]
  },
  {
   "cell_type": "code",
   "execution_count": 181,
   "metadata": {
    "colab": {
     "base_uri": "https://localhost:8080/"
    },
    "id": "BT742Rgxm23g",
    "outputId": "bcb3104a-876d-4d03-b10c-3737c43ca1f3"
   },
   "outputs": [
    {
     "data": {
      "text/plain": [
       "array(['No', 'Yes'], dtype=object)"
      ]
     },
     "execution_count": 181,
     "metadata": {},
     "output_type": "execute_result"
    }
   ],
   "source": [
    "train['PhoneService'].unique()"
   ]
  },
  {
   "cell_type": "code",
   "execution_count": 182,
   "metadata": {
    "id": "9OY10Zxnlbyl"
   },
   "outputs": [],
   "source": [
    "dict={'Yes':1, 'No':0}\n",
    "train['PhoneService'].replace(dict, inplace=True)"
   ]
  },
  {
   "cell_type": "code",
   "execution_count": 183,
   "metadata": {
    "colab": {
     "base_uri": "https://localhost:8080/"
    },
    "id": "MnbWDLhvnTaf",
    "outputId": "1438e380-c3f0-4586-b9f2-3782eb86bbdf"
   },
   "outputs": [
    {
     "data": {
      "text/plain": [
       "array(['Yes', 'No'], dtype=object)"
      ]
     },
     "execution_count": 183,
     "metadata": {},
     "output_type": "execute_result"
    }
   ],
   "source": [
    "train['PaperlessBilling'].unique()"
   ]
  },
  {
   "cell_type": "code",
   "execution_count": 184,
   "metadata": {
    "id": "3QElvi_4nXFs"
   },
   "outputs": [],
   "source": [
    "dict={'Yes':1, 'No':0}\n",
    "train['PaperlessBilling'].replace(dict, inplace=True)"
   ]
  },
  {
   "cell_type": "markdown",
   "metadata": {
    "id": "KSG33eh6ehjq"
   },
   "source": [
    "# Univariate Analysis"
   ]
  },
  {
   "cell_type": "code",
   "execution_count": 185,
   "metadata": {
    "colab": {
     "base_uri": "https://localhost:8080/",
     "height": 308
    },
    "id": "7BNhPEipdK81",
    "outputId": "58743db1-5941-4ea1-b39b-74dd85c95103"
   },
   "outputs": [
    {
     "data": {
      "text/plain": [
       "<AxesSubplot:>"
      ]
     },
     "execution_count": 185,
     "metadata": {},
     "output_type": "execute_result"
    },
    {
     "data": {
      "image/png": "[encoded data removed]",
      "text/plain": [
       "<Figure size 432x288 with 1 Axes>"
      ]
     },
     "metadata": {
      "needs_background": "light"
     },
     "output_type": "display_data"
    }
   ],
   "source": [
    "train['gender'].value_counts().plot(kind='bar')"
   ]
  },
  {
   "cell_type": "code",
   "execution_count": 186,
   "metadata": {
    "colab": {
     "base_uri": "https://localhost:8080/",
     "height": 265
    },
    "id": "RShRWaHXd0e1",
    "outputId": "14171e5a-d885-431e-da31-dd18ea3dde2c"
   },
   "outputs": [
    {
     "data": {
      "text/plain": [
       "<AxesSubplot:ylabel='gender'>"
      ]
     },
     "execution_count": 186,
     "metadata": {},
     "output_type": "execute_result"
    },
    {
     "data": {
      "image/png": "[encoded data removed]",
      "text/plain": [
       "<Figure size 432x288 with 1 Axes>"
      ]
     },
     "metadata": {},
     "output_type": "display_data"
    }
   ],
   "source": [
    "train['gender'].value_counts().plot(kind='pie', autopct ='% 1.1f %%')"
   ]
  },
  {
   "cell_type": "code",
   "execution_count": 187,
   "metadata": {
    "colab": {
     "base_uri": "https://localhost:8080/",
     "height": 280
    },
    "id": "S7YIG2kXdf8y",
    "outputId": "7ff679b1-d095-47a3-9765-94007efd686a"
   },
   "outputs": [
    {
     "data": {
      "text/plain": [
       "<AxesSubplot:>"
      ]
     },
     "execution_count": 187,
     "metadata": {},
     "output_type": "execute_result"
    },
    {
     "data": {
      "image/png": "[encoded data removed]",
      "text/plain": [
       "<Figure size 432x288 with 1 Axes>"
      ]
     },
     "metadata": {
      "needs_background": "light"
     },
     "output_type": "display_data"
    }
   ],
   "source": [
    "train['SeniorCitizen'].value_counts().plot(kind='bar')"
   ]
  },
  {
   "cell_type": "code",
   "execution_count": 188,
   "metadata": {
    "colab": {
     "base_uri": "https://localhost:8080/",
     "height": 282
    },
    "id": "Uw9rQg9UdsFX",
    "outputId": "6fa3d381-e2ae-471a-9c9f-c178c64a95a2"
   },
   "outputs": [
    {
     "data": {
      "text/plain": [
       "<AxesSubplot:>"
      ]
     },
     "execution_count": 188,
     "metadata": {},
     "output_type": "execute_result"
    },
    {
     "data": {
      "image/png": "[encoded data removed]",
      "text/plain": [
       "<Figure size 432x288 with 1 Axes>"
      ]
     },
     "metadata": {
      "needs_background": "light"
     },
     "output_type": "display_data"
    }
   ],
   "source": [
    "train['Partner'].hist()"
   ]
  },
  {
   "cell_type": "code",
   "execution_count": 189,
   "metadata": {
    "colab": {
     "base_uri": "https://localhost:8080/",
     "height": 282
    },
    "id": "j2Ah6BM9dx8U",
    "outputId": "17f850b3-fcb0-49e3-e0d9-d77e6188a30f"
   },
   "outputs": [
    {
     "data": {
      "text/plain": [
       "<AxesSubplot:>"
      ]
     },
     "execution_count": 189,
     "metadata": {},
     "output_type": "execute_result"
    },
    {
     "data": {
      "image/png": "[encoded data removed]",
      "text/plain": [
       "<Figure size 432x288 with 1 Axes>"
      ]
     },
     "metadata": {
      "needs_background": "light"
     },
     "output_type": "display_data"
    }
   ],
   "source": [
    "train['tenure'].hist()"
   ]
  },
  {
   "cell_type": "code",
   "execution_count": 190,
   "metadata": {
    "colab": {
     "base_uri": "https://localhost:8080/",
     "height": 280
    },
    "id": "yKjprnDueE0O",
    "outputId": "99cd0551-a201-4a4e-8acc-c93917736044"
   },
   "outputs": [
    {
     "data": {
      "text/plain": [
       "<AxesSubplot:>"
      ]
     },
     "execution_count": 190,
     "metadata": {},
     "output_type": "execute_result"
    },
    {
     "data": {
      "image/png": "[encoded data removed]",
      "text/plain": [
       "<Figure size 432x288 with 1 Axes>"
      ]
     },
     "metadata": {
      "needs_background": "light"
     },
     "output_type": "display_data"
    }
   ],
   "source": [
    "train['PhoneService'].value_counts().plot(kind='bar')"
   ]
  },
  {
   "cell_type": "markdown",
   "metadata": {
    "id": "71XoF_MvpGrL"
   },
   "source": [
    "# Bivariate Analysis"
   ]
  },
  {
   "cell_type": "code",
   "execution_count": 191,
   "metadata": {
    "colab": {
     "base_uri": "https://localhost:8080/",
     "height": 332
    },
    "id": "Acx9Ot2yjzcE",
    "outputId": "43a18e34-1d3f-48bc-a33d-a074fd695273"
   },
   "outputs": [
    {
     "data": {
      "text/html": [
       "<div>\n",
       "<style scoped>\n",
       "    .dataframe tbody tr th:only-of-type {\n",
       "        vertical-align: middle;\n",
       "    }\n",
       "\n",
       "    .dataframe tbody tr th {\n",
       "        vertical-align: top;\n",
       "    }\n",
       "\n",
       "    .dataframe thead th {\n",
       "        text-align: right;\n",
       "    }\n",
       "</style>\n",
       "<table border=\"1\" class=\"dataframe\">\n",
       "  <thead>\n",
       "    <tr style=\"text-align: right;\">\n",
       "      <th></th>\n",
       "      <th>SeniorCitizen</th>\n",
       "      <th>Partner</th>\n",
       "      <th>Dependents</th>\n",
       "      <th>tenure</th>\n",
       "      <th>PhoneService</th>\n",
       "      <th>PaperlessBilling</th>\n",
       "      <th>MonthlyCharges</th>\n",
       "      <th>TotalCharges</th>\n",
       "      <th>Churn</th>\n",
       "    </tr>\n",
       "  </thead>\n",
       "  <tbody>\n",
       "    <tr>\n",
       "      <th>SeniorCitizen</th>\n",
       "      <td>1.000000</td>\n",
       "      <td>0.016479</td>\n",
       "      <td>-0.211185</td>\n",
       "      <td>0.016567</td>\n",
       "      <td>0.008576</td>\n",
       "      <td>0.156530</td>\n",
       "      <td>0.220173</td>\n",
       "      <td>0.102411</td>\n",
       "      <td>0.150889</td>\n",
       "    </tr>\n",
       "    <tr>\n",
       "      <th>Partner</th>\n",
       "      <td>0.016479</td>\n",
       "      <td>1.000000</td>\n",
       "      <td>0.452676</td>\n",
       "      <td>0.379697</td>\n",
       "      <td>0.017706</td>\n",
       "      <td>-0.014877</td>\n",
       "      <td>0.096848</td>\n",
       "      <td>0.319072</td>\n",
       "      <td>-0.150448</td>\n",
       "    </tr>\n",
       "    <tr>\n",
       "      <th>Dependents</th>\n",
       "      <td>-0.211185</td>\n",
       "      <td>0.452676</td>\n",
       "      <td>1.000000</td>\n",
       "      <td>0.159712</td>\n",
       "      <td>-0.001762</td>\n",
       "      <td>-0.111377</td>\n",
       "      <td>-0.113890</td>\n",
       "      <td>0.064653</td>\n",
       "      <td>-0.164221</td>\n",
       "    </tr>\n",
       "    <tr>\n",
       "      <th>tenure</th>\n",
       "      <td>0.016567</td>\n",
       "      <td>0.379697</td>\n",
       "      <td>0.159712</td>\n",
       "      <td>1.000000</td>\n",
       "      <td>0.008448</td>\n",
       "      <td>0.006152</td>\n",
       "      <td>0.247900</td>\n",
       "      <td>0.825880</td>\n",
       "      <td>-0.352229</td>\n",
       "    </tr>\n",
       "    <tr>\n",
       "      <th>PhoneService</th>\n",
       "      <td>0.008576</td>\n",
       "      <td>0.017706</td>\n",
       "      <td>-0.001762</td>\n",
       "      <td>0.008448</td>\n",
       "      <td>1.000000</td>\n",
       "      <td>0.016505</td>\n",
       "      <td>0.247398</td>\n",
       "      <td>0.113008</td>\n",
       "      <td>0.011942</td>\n",
       "    </tr>\n",
       "    <tr>\n",
       "      <th>PaperlessBilling</th>\n",
       "      <td>0.156530</td>\n",
       "      <td>-0.014877</td>\n",
       "      <td>-0.111377</td>\n",
       "      <td>0.006152</td>\n",
       "      <td>0.016505</td>\n",
       "      <td>1.000000</td>\n",
       "      <td>0.352150</td>\n",
       "      <td>0.157830</td>\n",
       "      <td>0.191825</td>\n",
       "    </tr>\n",
       "    <tr>\n",
       "      <th>MonthlyCharges</th>\n",
       "      <td>0.220173</td>\n",
       "      <td>0.096848</td>\n",
       "      <td>-0.113890</td>\n",
       "      <td>0.247900</td>\n",
       "      <td>0.247398</td>\n",
       "      <td>0.352150</td>\n",
       "      <td>1.000000</td>\n",
       "      <td>0.651065</td>\n",
       "      <td>0.193356</td>\n",
       "    </tr>\n",
       "    <tr>\n",
       "      <th>TotalCharges</th>\n",
       "      <td>0.102411</td>\n",
       "      <td>0.319072</td>\n",
       "      <td>0.064653</td>\n",
       "      <td>0.825880</td>\n",
       "      <td>0.113008</td>\n",
       "      <td>0.157830</td>\n",
       "      <td>0.651065</td>\n",
       "      <td>1.000000</td>\n",
       "      <td>-0.199484</td>\n",
       "    </tr>\n",
       "    <tr>\n",
       "      <th>Churn</th>\n",
       "      <td>0.150889</td>\n",
       "      <td>-0.150448</td>\n",
       "      <td>-0.164221</td>\n",
       "      <td>-0.352229</td>\n",
       "      <td>0.011942</td>\n",
       "      <td>0.191825</td>\n",
       "      <td>0.193356</td>\n",
       "      <td>-0.199484</td>\n",
       "      <td>1.000000</td>\n",
       "    </tr>\n",
       "  </tbody>\n",
       "</table>\n",
       "</div>"
      ],
      "text/plain": [
       "                  SeniorCitizen   Partner  Dependents    tenure  PhoneService  \\\n",
       "SeniorCitizen          1.000000  0.016479   -0.211185  0.016567      0.008576   \n",
       "Partner                0.016479  1.000000    0.452676  0.379697      0.017706   \n",
       "Dependents            -0.211185  0.452676    1.000000  0.159712     -0.001762   \n",
       "tenure                 0.016567  0.379697    0.159712  1.000000      0.008448   \n",
       "PhoneService           0.008576  0.017706   -0.001762  0.008448      1.000000   \n",
       "PaperlessBilling       0.156530 -0.014877   -0.111377  0.006152      0.016505   \n",
       "MonthlyCharges         0.220173  0.096848   -0.113890  0.247900      0.247398   \n",
       "TotalCharges           0.102411  0.319072    0.064653  0.825880      0.113008   \n",
       "Churn                  0.150889 -0.150448   -0.164221 -0.352229      0.011942   \n",
       "\n",
       "                  PaperlessBilling  MonthlyCharges  TotalCharges     Churn  \n",
       "SeniorCitizen             0.156530        0.220173      0.102411  0.150889  \n",
       "Partner                  -0.014877        0.096848      0.319072 -0.150448  \n",
       "Dependents               -0.111377       -0.113890      0.064653 -0.164221  \n",
       "tenure                    0.006152        0.247900      0.825880 -0.352229  \n",
       "PhoneService              0.016505        0.247398      0.113008  0.011942  \n",
       "PaperlessBilling          1.000000        0.352150      0.157830  0.191825  \n",
       "MonthlyCharges            0.352150        1.000000      0.651065  0.193356  \n",
       "TotalCharges              0.157830        0.651065      1.000000 -0.199484  \n",
       "Churn                     0.191825        0.193356     -0.199484  1.000000  "
      ]
     },
     "execution_count": 191,
     "metadata": {},
     "output_type": "execute_result"
    }
   ],
   "source": [
    "train.corr()"
   ]
  },
  {
   "cell_type": "markdown",
   "metadata": {
    "id": "sK2ive1Aetn0"
   },
   "source": [
    "# Conditional Probability"
   ]
  },
  {
   "cell_type": "markdown",
   "metadata": {
    "id": "QZhP94QGfTxY"
   },
   "source": [
    "![image.png](data:image/png;base64,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)"
   ]
  },
  {
   "cell_type": "markdown",
   "metadata": {
    "id": "PJYxIl0bfYlJ"
   },
   "source": [
    "- what is the probability of churn given that he/she is a Male/Female?"
   ]
  },
  {
   "cell_type": "code",
   "execution_count": 192,
   "metadata": {
    "colab": {
     "base_uri": "https://localhost:8080/"
    },
    "id": "2Q01RU5shaoj",
    "outputId": "8e0a544b-6bb4-43db-cfa5-af97bd40a1a3"
   },
   "outputs": [
    {
     "data": {
      "text/plain": [
       "gender  Churn\n",
       "Female  0        2549\n",
       "        1         939\n",
       "Male    0        2625\n",
       "        1         930\n",
       "Name: Churn, dtype: int64"
      ]
     },
     "execution_count": 192,
     "metadata": {},
     "output_type": "execute_result"
    }
   ],
   "source": [
    "train.groupby('gender').Churn.value_counts()\n"
   ]
  },
  {
   "cell_type": "code",
   "execution_count": 194,
   "metadata": {},
   "outputs": [
    {
     "data": {
      "text/plain": [
       "0.2616033755274262"
      ]
     },
     "execution_count": 194,
     "metadata": {},
     "output_type": "execute_result"
    }
   ],
   "source": [
    "train.query('gender ==\"Male\"').Churn.mean()"
   ]
  },
  {
   "cell_type": "code",
   "execution_count": 195,
   "metadata": {},
   "outputs": [
    {
     "data": {
      "text/plain": [
       "0.26920871559633025"
      ]
     },
     "execution_count": 195,
     "metadata": {},
     "output_type": "execute_result"
    }
   ],
   "source": [
    "train.query('gender ==\"Female\"').Churn.mean()"
   ]
  },
  {
   "cell_type": "markdown",
   "metadata": {
    "id": "xkPn2JF3iYxZ"
   },
   "source": [
    "The probability that the customer will leave given he is a Female is higher than that of being a Male."
   ]
  },
  {
   "cell_type": "markdown",
   "metadata": {
    "id": "TMA9cE5hikhd"
   },
   "source": [
    "Does internetService affect the probablility of Churn?"
   ]
  },
  {
   "cell_type": "code",
   "execution_count": 197,
   "metadata": {
    "colab": {
     "base_uri": "https://localhost:8080/"
    },
    "id": "QCg1ITzEjCoQ",
    "outputId": "37b8e6fe-53f9-4ecd-9a47-bd0a1aaa87ab"
   },
   "outputs": [
    {
     "data": {
      "text/plain": [
       "array(['DSL', 'Fiber optic', 'No'], dtype=object)"
      ]
     },
     "execution_count": 197,
     "metadata": {},
     "output_type": "execute_result"
    }
   ],
   "source": [
    "train['InternetService'].unique()"
   ]
  },
  {
   "cell_type": "code",
   "execution_count": 199,
   "metadata": {},
   "outputs": [
    {
     "data": {
      "text/plain": [
       "0.1895910780669145"
      ]
     },
     "execution_count": 199,
     "metadata": {},
     "output_type": "execute_result"
    }
   ],
   "source": [
    "train.query('InternetService ==\"DSL\"').Churn.mean()"
   ]
  },
  {
   "cell_type": "code",
   "execution_count": 201,
   "metadata": {},
   "outputs": [
    {
     "data": {
      "text/plain": [
       "0.4189276485788114"
      ]
     },
     "execution_count": 201,
     "metadata": {},
     "output_type": "execute_result"
    }
   ],
   "source": [
    "train.query('InternetService ==\"Fiber optic\"').Churn.mean()"
   ]
  },
  {
   "cell_type": "code",
   "execution_count": 202,
   "metadata": {},
   "outputs": [
    {
     "data": {
      "text/plain": [
       "0.07404980340760157"
      ]
     },
     "execution_count": 202,
     "metadata": {},
     "output_type": "execute_result"
    }
   ],
   "source": [
    "train.query('InternetService ==\"No\"').Churn.mean()"
   ]
  },
  {
   "cell_type": "markdown",
   "metadata": {
    "id": "-E4J0-Q0jXap"
   },
   "source": [
    "All those who leave the company have a DSL internet service."
   ]
  },
  {
   "cell_type": "code",
   "execution_count": 203,
   "metadata": {
    "colab": {
     "base_uri": "https://localhost:8080/"
    },
    "id": "wnw62D_7kKkb",
    "outputId": "ae5e8ac6-6c4a-4464-e2cc-b34a0951276b"
   },
   "outputs": [
    {
     "data": {
      "text/plain": [
       "0.34374556297032516"
      ]
     },
     "execution_count": 203,
     "metadata": {},
     "output_type": "execute_result"
    }
   ],
   "source": [
    "len(train[train['InternetService'] == 'DSL']) / train.shape[0]"
   ]
  },
  {
   "cell_type": "code",
   "execution_count": 204,
   "metadata": {
    "colab": {
     "base_uri": "https://localhost:8080/"
    },
    "id": "3Crj0znWkTWc",
    "outputId": "a2885f6e-8d97-43d9-acc4-6f559c8f6ac2"
   },
   "outputs": [
    {
     "data": {
      "text/plain": [
       "0.4395854039471816"
      ]
     },
     "execution_count": 204,
     "metadata": {},
     "output_type": "execute_result"
    }
   ],
   "source": [
    "len(train[train['InternetService'] == 'Fiber optic']) / train.shape[0]\n"
   ]
  },
  {
   "cell_type": "markdown",
   "metadata": {
    "id": "wdQe0WqLo-RP"
   },
   "source": [
    "# Confidence Interval for total Charges"
   ]
  },
  {
   "cell_type": "code",
   "execution_count": 219,
   "metadata": {},
   "outputs": [],
   "source": [
    "churn_red = train.sample(200)"
   ]
  },
  {
   "cell_type": "code",
   "execution_count": 222,
   "metadata": {},
   "outputs": [
    {
     "data": {
      "text/plain": [
       "2539.9049668874172"
      ]
     },
     "execution_count": 222,
     "metadata": {},
     "output_type": "execute_result"
    }
   ],
   "source": [
    "churn_red[churn_red['Churn'] == False]['TotalCharges'].mean()"
   ]
  },
  {
   "cell_type": "code",
   "execution_count": 220,
   "metadata": {},
   "outputs": [
    {
     "data": {
      "image/png": "[encoded data removed]",
      "text/plain": [
       "<Figure size 432x288 with 1 Axes>"
      ]
     },
     "metadata": {
      "needs_background": "light"
     },
     "output_type": "display_data"
    }
   ],
   "source": [
    "boot_means = []\n",
    "for _ in range(10000):\n",
    "    bootsamp =churn_red.sample(200, replace = True)\n",
    "    boot_mean = bootsamp[bootsamp['Churn'] == False]['TotalCharges'].mean()\n",
    "    boot_means.append(boot_mean)\n",
    "    \n",
    "plt.hist(boot_means);"
   ]
  },
  {
   "cell_type": "code",
   "execution_count": 221,
   "metadata": {},
   "outputs": [
    {
     "data": {
      "text/plain": [
       "(2172.866263079469, 2922.6942256509565)"
      ]
     },
     "execution_count": 221,
     "metadata": {},
     "output_type": "execute_result"
    }
   ],
   "source": [
    "np.percentile(boot_means, 2.5), np.percentile(boot_means, 97.5)"
   ]
  },
  {
   "cell_type": "code",
   "execution_count": 223,
   "metadata": {},
   "outputs": [
    {
     "data": {
      "text/plain": [
       "1676.657142857143"
      ]
     },
     "execution_count": 223,
     "metadata": {},
     "output_type": "execute_result"
    }
   ],
   "source": [
    "churn_red[churn_red['Churn'] == True]['TotalCharges'].mean()"
   ]
  },
  {
   "cell_type": "code",
   "execution_count": 224,
   "metadata": {},
   "outputs": [
    {
     "data": {
      "image/png": "[encoded data removed]",
      "text/plain": [
       "<Figure size 432x288 with 1 Axes>"
      ]
     },
     "metadata": {
      "needs_background": "light"
     },
     "output_type": "display_data"
    }
   ],
   "source": [
    "boot_means = []\n",
    "for _ in range(10000):\n",
    "    bootsamp =churn_red.sample(200, replace = True)\n",
    "    boot_mean = bootsamp[bootsamp['Churn'] == True]['TotalCharges'].mean()\n",
    "    boot_means.append(boot_mean)\n",
    "    \n",
    "plt.hist(boot_means);"
   ]
  },
  {
   "cell_type": "code",
   "execution_count": 225,
   "metadata": {},
   "outputs": [
    {
     "data": {
      "text/plain": [
       "(1212.1881510416672, 2205.0050683890577)"
      ]
     },
     "execution_count": 225,
     "metadata": {},
     "output_type": "execute_result"
    }
   ],
   "source": [
    "np.percentile(boot_means, 2.5), np.percentile(boot_means, 97.5)"
   ]
  },
  {
   "cell_type": "code",
   "execution_count": 227,
   "metadata": {},
   "outputs": [
    {
     "data": {
      "text/plain": [
       "(228.67335426889557, 1466.1172064393952)"
      ]
     },
     "execution_count": 227,
     "metadata": {},
     "output_type": "execute_result"
    }
   ],
   "source": [
    "diff = []\n",
    "for _ in range(10000):\n",
    "    bootsample = churn_red.sample(200, replace=True)\n",
    "    mean_nocoff = bootsample[bootsample['Churn'] == False]['TotalCharges'].mean()\n",
    "    mean_coff = bootsample[bootsample['Churn'] == True]['TotalCharges'].mean()\n",
    "    diff.append(mean_nocoff - mean_coff)\n",
    "\n",
    "np.percentile(diff, 2.5), np.percentile(diff, 97.5)"
   ]
  },
  {
   "cell_type": "code",
   "execution_count": 232,
   "metadata": {},
   "outputs": [
    {
     "data": {
      "image/png": "[encoded data removed]",
      "text/plain": [
       "<Figure size 432x288 with 1 Axes>"
      ]
     },
     "metadata": {
      "needs_background": "light"
     },
     "output_type": "display_data"
    }
   ],
   "source": [
    "plt.hist(diff);"
   ]
  },
  {
   "cell_type": "code",
   "execution_count": 231,
   "metadata": {},
   "outputs": [
    {
     "data": {
      "text/plain": [
       "(233.6471268031611, 1492.8485212573878)"
      ]
     },
     "execution_count": 231,
     "metadata": {},
     "output_type": "execute_result"
    }
   ],
   "source": [
    "import statsmodels.stats.api as sms\n",
    "\n",
    "X1 = churn_red[churn_red['Churn'] == False]['TotalCharges'] \n",
    "X2 = churn_red[churn_red['Churn'] == True]['TotalCharges']\n",
    "\n",
    "cm = sms.CompareMeans(sms.DescrStatsW(X1), sms.DescrStatsW(X2))\n",
    "cm.tconfint_diff(usevar='unequal')"
   ]
  }
 ],
 "metadata": {
  "colab": {
   "collapsed_sections": [],
   "name": "Case Study 2",
   "provenance": []
  },
  "kernelspec": {
   "display_name": "Python 3",
   "language": "python",
   "name": "python3"
  },
  "language_info": {
   "codemirror_mode": {
    "name": "ipython",
    "version": 3
   },
   "file_extension": ".py",
   "mimetype": "text/x-python",
   "name": "python",
   "nbconvert_exporter": "python",
   "pygments_lexer": "ipython3",
   "version": "3.8.8"
  }
 },
 "nbformat": 4,
 "nbformat_minor": 1
}
